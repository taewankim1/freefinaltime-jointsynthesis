{
 "cells": [
  {
   "cell_type": "code",
   "execution_count": 68,
   "metadata": {},
   "outputs": [
    {
     "ename": "LoadError",
     "evalue": "LoadError: InterruptException:\nin expression starting at /Users/taewankim/Documents/Code/Personal/JointSynthesisFreeFinal/trajopt/dynamics.jl:90\nin expression starting at /Users/taewankim/Documents/Code/Personal/JointSynthesisFreeFinal/funlopt/funl_utils.jl:2\nin expression starting at /Users/taewankim/Documents/Code/Personal/JointSynthesisFreeFinal/funlopt/funl_dynamics_upper.jl:3",
     "output_type": "error",
     "traceback": [
      "LoadError: InterruptException:\n",
      "in expression starting at /Users/taewankim/Documents/Code/Personal/JointSynthesisFreeFinal/trajopt/dynamics.jl:90\n",
      "in expression starting at /Users/taewankim/Documents/Code/Personal/JointSynthesisFreeFinal/funlopt/funl_utils.jl:2\n",
      "in expression starting at /Users/taewankim/Documents/Code/Personal/JointSynthesisFreeFinal/funlopt/funl_dynamics_upper.jl:3\n",
      "\n",
      "Stacktrace:\n",
      "  [1] include(fname::String)\n",
      "    @ Base.MainInclude ./client.jl:478\n",
      "  [2] include(fname::String)\n",
      "    @ Base.MainInclude ./client.jl:478\n",
      "  [3] include(fname::String)\n",
      "    @ Base.MainInclude ./client.jl:478\n",
      "  [4] eval\n",
      "    @ ./boot.jl:370 [inlined]\n",
      "  [5] include_string(mapexpr::typeof(REPL.softscope), mod::Module, code::String, filename::String)\n",
      "    @ Base ./loading.jl:1903\n",
      "  [6] #invokelatest#2\n",
      "    @ ./essentials.jl:819 [inlined]\n",
      "  [7] invokelatest\n",
      "    @ ./essentials.jl:816 [inlined]\n",
      "  [8] (::VSCodeServer.var\"#219#220\"{VSCodeServer.NotebookRunCellArguments, String})()\n",
      "    @ VSCodeServer ~/.vscode/extensions/julialang.language-julia-1.83.2/scripts/packages/VSCodeServer/src/serve_notebook.jl:19\n",
      "  [9] withpath(f::VSCodeServer.var\"#219#220\"{VSCodeServer.NotebookRunCellArguments, String}, path::String)\n",
      "    @ VSCodeServer ~/.vscode/extensions/julialang.language-julia-1.83.2/scripts/packages/VSCodeServer/src/repl.jl:276\n",
      " [10] notebook_runcell_request(conn::VSCodeServer.JSONRPC.JSONRPCEndpoint{Base.PipeEndpoint, Base.PipeEndpoint}, params::VSCodeServer.NotebookRunCellArguments)\n",
      "    @ VSCodeServer ~/.vscode/extensions/julialang.language-julia-1.83.2/scripts/packages/VSCodeServer/src/serve_notebook.jl:13\n",
      " [11] dispatch_msg(x::VSCodeServer.JSONRPC.JSONRPCEndpoint{Base.PipeEndpoint, Base.PipeEndpoint}, dispatcher::VSCodeServer.JSONRPC.MsgDispatcher, msg::Dict{String, Any})\n",
      "    @ VSCodeServer.JSONRPC ~/.vscode/extensions/julialang.language-julia-1.83.2/scripts/packages/JSONRPC/src/typed.jl:67\n",
      " [12] serve_notebook(pipename::String, outputchannel_logger::Base.CoreLogging.SimpleLogger; crashreporting_pipename::String)\n",
      "    @ VSCodeServer ~/.vscode/extensions/julialang.language-julia-1.83.2/scripts/packages/VSCodeServer/src/serve_notebook.jl:139\n",
      " [13] top-level scope\n",
      "    @ ~/.vscode/extensions/julialang.language-julia-1.83.2/scripts/notebook/notebook.jl:35"
     ]
    }
   ],
   "source": [
    "include(\"./trajopt/utils.jl\")\n",
    "include(\"./trajopt/dynamics.jl\")\n",
    "include(\"./funlopt/funl_utils.jl\")\n",
    "include(\"./funlopt/funl_dynamics_upper.jl\")\n",
    "# include(\"./funlopt/funl_constraint.jl\")\n",
    "# include(\"./trajopt/scaling.jl\")"
   ]
  },
  {
   "cell_type": "code",
   "execution_count": 69,
   "metadata": {},
   "outputs": [],
   "source": [
    "# # load nominal trajectory\n",
    "# using JLD2, FileIO\n",
    "# @load \"./data/quadstar_N15_traj\" my_dict\n",
    "# xnom = my_dict[\"x\"]\n",
    "# unom = my_dict[\"u\"]\n",
    "# tnom = my_dict[\"t\"];\n",
    "# N = size(xnom,2) - 1\n",
    "# dtnom = zeros(N)\n",
    "# for i in 1:N\n",
    "#     dtnom[i] = tnom[i+1]-tnom[i]\n",
    "# end\n",
    "# @load \"./data/quadstar_N15_funl\" my_dict\n",
    "# Qnom = my_dict[\"Q\"]\n",
    "# Knom = my_dict[\"K\"]\n",
    "# Znom = my_dict[\"Z\"];\n",
    "\n",
    "\n",
    "@load \"./data/xuQYZ_unicycle_0328\" my_dict\n",
    "xnom = my_dict[\"x\"]\n",
    "unom = my_dict[\"u\"]\n",
    "tnom = my_dict[\"t\"]\n",
    "Qnom = my_dict[\"Q\"]\n",
    "Ynom = my_dict[\"Y\"]\n",
    "Znom = my_dict[\"Z\"]\n",
    "N = size(xnom,2) - 1\n",
    "dtnom = zeros(N)\n",
    "for i in 1:N\n",
    "    dtnom[i] = tnom[i+1]-tnom[i]\n",
    "end\n"
   ]
  },
  {
   "cell_type": "code",
   "execution_count": 70,
   "metadata": {},
   "outputs": [
    {
     "data": {
      "text/plain": [
       "1"
      ]
     },
     "metadata": {},
     "output_type": "display_data"
    }
   ],
   "source": [
    "# dynamics = QuadrotorDynamics()\n",
    "dynamics = Unicycle()\n",
    "ix = dynamics.ix\n",
    "iu = dynamics.iu\n",
    "decay_rate = 0.1\n",
    "DLMI = NonlinearDLMI(decay_rate,ix,iu,dynamics.Cv,dynamics.Dvu)\n",
    "is = DLMI.is"
   ]
  },
  {
   "cell_type": "code",
   "execution_count": 71,
   "metadata": {},
   "outputs": [
    {
     "data": {
      "text/plain": [
       "([0.0 0.0 -0.8563473835516268; 0.0 0.0 1.2805836524424632; 0.0 0.0 0.0], [0.831263029672674 0.0; 0.5558792814086592 0.0; 0.0 1.0])"
      ]
     },
     "metadata": {},
     "output_type": "display_data"
    }
   ],
   "source": [
    "idx = 4\n",
    "A,B = diff(dynamics,xnom[:,idx],unom[:,idx])"
   ]
  },
  {
   "cell_type": "code",
   "execution_count": 83,
   "metadata": {},
   "outputs": [
    {
     "data": {
      "text/plain": [
       "diff_numeric (generic function with 1 method)"
      ]
     },
     "metadata": {},
     "output_type": "display_data"
    }
   ],
   "source": [
    "include(\"./funlopt/funl_dynamics_upper.jl\")"
   ]
  },
  {
   "cell_type": "code",
   "execution_count": 84,
   "metadata": {},
   "outputs": [],
   "source": [
    "idx = 4\n",
    "Q = Qnom[:,:,idx]\n",
    "# K = Knom[:,:,idx]\n",
    "K = Ynom[:,:,idx] * inv(Qnom[:,:,idx])\n",
    "Z = Znom[:,:,idx]\n",
    "lam = 1.5\n",
    "X = vec_upper(Q,ix)\n",
    "U = vcat(vec(K),vec_upper(Z,ix),lam)\n",
    ";"
   ]
  },
  {
   "cell_type": "markdown",
   "metadata": {},
   "source": [
    "# forward"
   ]
  },
  {
   "cell_type": "code",
   "execution_count": 85,
   "metadata": {},
   "outputs": [],
   "source": [
    "L = (A+B*K)*Q + 0.5*DLMI.alpha*Q\n",
    "M = (DLMI.C+DLMI.D*K)*Q\n",
    "dQ = L + L' + lam*M'*M + Z\n",
    ";"
   ]
  },
  {
   "cell_type": "code",
   "execution_count": 86,
   "metadata": {},
   "outputs": [],
   "source": [
    "dq_upper = forward(DLMI,X,U,A,B)\n",
    "dQ_ = inv_vec_upper(dq_upper,ix)\n",
    ";"
   ]
  },
  {
   "cell_type": "code",
   "execution_count": 87,
   "metadata": {},
   "outputs": [
    {
     "data": {
      "text/plain": [
       "1.1565947809466846e-16"
      ]
     },
     "metadata": {},
     "output_type": "display_data"
    }
   ],
   "source": [
    "sum(abs.(dq_upper - vec_upper(dQ,ix))) / sum(abs.(dq_upper))"
   ]
  },
  {
   "cell_type": "code",
   "execution_count": 88,
   "metadata": {},
   "outputs": [
    {
     "data": {
      "text/plain": [
       "1.2803897627623105e-16"
      ]
     },
     "metadata": {},
     "output_type": "display_data"
    }
   ],
   "source": [
    "sum(abs.(dQ-dQ_)) / sum(abs.(dQ))"
   ]
  },
  {
   "cell_type": "markdown",
   "metadata": {},
   "source": [
    "# Jacobian"
   ]
  },
  {
   "cell_type": "code",
   "execution_count": 89,
   "metadata": {},
   "outputs": [
    {
     "data": {
      "text/plain": [
       "([-0.015112217050045729 -0.20892163971439004 … 0.0 0.0; -0.03232918644789606 -0.016231605783104897 … 4.386538234422915 0.0; … ; 0.0 0.8202561646467075 … 3.8485932496841997 -1.8980984996305779; 0.0 0.0 … -2.7010434311814606 7.714537493418902], [2.3109952551312745 0.0 … 0.0 12.36987409973517; 0.2362610874697566 0.0 … 0.0 -7.297776383114979; … ; 0.2723916245158762 -1.6872438208665699 … 0.0 -8.119554763659835; 0.8614602955058217 6.990545892622322 … 1.0 14.605011752806604])"
      ]
     },
     "metadata": {},
     "output_type": "display_data"
    }
   ],
   "source": [
    "Fx_n,Fu_n = diff_numeric(DLMI,X,U,A,B)"
   ]
  },
  {
   "cell_type": "code",
   "execution_count": 90,
   "metadata": {},
   "outputs": [
    {
     "data": {
      "text/plain": [
       "9×9 BlockDiagonal{Float64, Matrix{Float64}}:\n",
       " -0.00755611  -0.104461    4.38654  …   0.0          0.0         0.0\n",
       " -0.0323292   -0.0086755  -1.8981       0.0          0.0         0.0\n",
       "  0.820256    -1.35052     3.85727      0.0          0.0         0.0\n",
       "  0.0          0.0         0.0          0.0          0.0         0.0\n",
       "  0.0          0.0         0.0          0.0          0.0         0.0\n",
       "  0.0          0.0         0.0      …   0.0          0.0         0.0\n",
       "  0.0          0.0         0.0         -0.00755611  -0.104461    4.38654\n",
       "  0.0          0.0         0.0         -0.0323292   -0.0086755  -1.8981\n",
       "  0.0          0.0         0.0          0.820256    -1.35052     3.85727"
      ]
     },
     "metadata": {},
     "output_type": "display_data"
    },
    {
     "data": {
      "text/plain": [
       "([-0.015112217074851664 -0.20892164001222335 … 0.0 0.0; -0.03232918624076592 -0.01623160607640084 … 4.386538234467287 0.0; … ; 0.0 0.8202561644394846 … 3.848593249517348 -1.8980984993850532; 0.0 0.0 … -2.7010434304852047 7.714537494112646], [2.310995255348861 0.0 … 0.0 12.369874099894696; 0.2362610875356046 0.0 … 0.0 -7.297776383019955; … ; 0.272391624538205 -1.687243820790398 … 0.0 -8.119554763808242; 0.8614602951082494 6.990545892963479 … 1.0 14.605011753039244])"
      ]
     },
     "metadata": {},
     "output_type": "display_data"
    }
   ],
   "source": [
    "Fx,Fu = diff(DLMI,X,U,A,B)"
   ]
  },
  {
   "cell_type": "code",
   "execution_count": 91,
   "metadata": {},
   "outputs": [
    {
     "data": {
      "text/plain": [
       "1.1228474894848514e-10"
      ]
     },
     "metadata": {},
     "output_type": "display_data"
    }
   ],
   "source": [
    "sum(abs.(Fx_n-Fx)) / sum(abs.(Fx_n))"
   ]
  },
  {
   "cell_type": "code",
   "execution_count": 92,
   "metadata": {},
   "outputs": [
    {
     "data": {
      "text/plain": [
       "4.441293854309866e-11"
      ]
     },
     "metadata": {},
     "output_type": "display_data"
    }
   ],
   "source": [
    "sum(abs.(Fu_n-Fu)) / sum(abs.(Fu_n))"
   ]
  },
  {
   "cell_type": "code",
   "execution_count": null,
   "metadata": {},
   "outputs": [],
   "source": []
  },
  {
   "cell_type": "code",
   "execution_count": null,
   "metadata": {},
   "outputs": [],
   "source": [
    "Fx_n - Fx"
   ]
  },
  {
   "cell_type": "code",
   "execution_count": null,
   "metadata": {},
   "outputs": [],
   "source": [
    "Fx"
   ]
  },
  {
   "cell_type": "code",
   "execution_count": null,
   "metadata": {},
   "outputs": [],
   "source": [
    "Fu - Fu_n"
   ]
  },
  {
   "cell_type": "code",
   "execution_count": null,
   "metadata": {},
   "outputs": [],
   "source": [
    "sum(abs.((Fu - Fu_n) .> 1e-8))"
   ]
  },
  {
   "cell_type": "code",
   "execution_count": null,
   "metadata": {},
   "outputs": [],
   "source": []
  },
  {
   "cell_type": "code",
   "execution_count": null,
   "metadata": {},
   "outputs": [],
   "source": [
    "using BenchmarkTools"
   ]
  },
  {
   "cell_type": "code",
   "execution_count": null,
   "metadata": {},
   "outputs": [],
   "source": [
    "@benchmark diff_numeric(DLMI,X,U,A,B)"
   ]
  },
  {
   "cell_type": "code",
   "execution_count": null,
   "metadata": {},
   "outputs": [],
   "source": [
    "@benchmark diff(DLMI,X,U,A,B)"
   ]
  },
  {
   "cell_type": "code",
   "execution_count": null,
   "metadata": {},
   "outputs": [],
   "source": [
    "Fu_n"
   ]
  },
  {
   "cell_type": "code",
   "execution_count": null,
   "metadata": {},
   "outputs": [],
   "source": [
    "Fu"
   ]
  },
  {
   "cell_type": "code",
   "execution_count": null,
   "metadata": {},
   "outputs": [],
   "source": [
    "DLMI.D"
   ]
  },
  {
   "cell_type": "code",
   "execution_count": null,
   "metadata": {},
   "outputs": [],
   "source": [
    "Fu_n"
   ]
  },
  {
   "cell_type": "code",
   "execution_count": null,
   "metadata": {},
   "outputs": [],
   "source": [
    "Fu"
   ]
  },
  {
   "cell_type": "code",
   "execution_count": null,
   "metadata": {},
   "outputs": [],
   "source": [
    "print_jl(Fx)\n",
    "print_jl(Fu)"
   ]
  },
  {
   "cell_type": "code",
   "execution_count": null,
   "metadata": {},
   "outputs": [],
   "source": []
  },
  {
   "cell_type": "code",
   "execution_count": null,
   "metadata": {},
   "outputs": [],
   "source": []
  },
  {
   "cell_type": "code",
   "execution_count": null,
   "metadata": {},
   "outputs": [],
   "source": []
  },
  {
   "cell_type": "code",
   "execution_count": null,
   "metadata": {},
   "outputs": [],
   "source": []
  },
  {
   "cell_type": "code",
   "execution_count": null,
   "metadata": {},
   "outputs": [],
   "source": []
  },
  {
   "cell_type": "markdown",
   "metadata": {},
   "source": [
    "# constraint"
   ]
  },
  {
   "cell_type": "code",
   "execution_count": null,
   "metadata": {},
   "outputs": [],
   "source": [
    "idx = 4\n",
    "# Q = Qnom[:,:,idx]\n",
    "# K = Ynom[:,:,idx] * inv(Qnom[:,:,idx])\n",
    "# Z = Znom[:,:,idx]\n",
    "# lam = 1.3\n",
    "Q = randn(3,3)\n",
    "K = randn(2,3)\n",
    "Z = randn(3,3)\n",
    "lam = 1.5\n",
    "X = vec(Q)\n",
    "U = vcat(vec(K),vec(Z),lam)"
   ]
  },
  {
   "cell_type": "code",
   "execution_count": null,
   "metadata": {},
   "outputs": [],
   "source": [
    "a = [1.5;2.0]\n",
    "function evaluate(q,k)\n",
    "    Q = reshape(q,(3,3))\n",
    "    K = reshape(k,(2,3))\n",
    "    return a'*K*Q*K'*a\n",
    "end"
   ]
  },
  {
   "cell_type": "code",
   "execution_count": null,
   "metadata": {},
   "outputs": [],
   "source": [
    "evaluate(vec(Q),vec(K))"
   ]
  },
  {
   "cell_type": "code",
   "execution_count": null,
   "metadata": {},
   "outputs": [],
   "source": [
    "function eval_diff_numeric(q,k)\n",
    "    ix = length(q)\n",
    "    iu = length(k)\n",
    "\n",
    "    eps_x = Diagonal{Float64}(I, ix)\n",
    "    eps_u = Diagonal{Float64}(I, iu)\n",
    "    fx = zeros(1,ix)\n",
    "    fu = zeros(1,iu)\n",
    "\n",
    "    h = 2^(-18)\n",
    "    for i in 1:ix\n",
    "        fx[:,i] .= (evaluate(q+h*eps_x[:,i],k) - evaluate(q-h*eps_x[:,i],k)) / (2*h)\n",
    "    end\n",
    "    for i in 1:iu\n",
    "        fu[:,i] .= (evaluate(q,k+h*eps_u[:,i]) - evaluate(q,k-h*eps_u[:,i])) / (2*h)\n",
    "    end\n",
    "    return fx,fu\n",
    "end"
   ]
  },
  {
   "cell_type": "code",
   "execution_count": null,
   "metadata": {},
   "outputs": [],
   "source": [
    "Cm = DLMI.Cm"
   ]
  },
  {
   "cell_type": "code",
   "execution_count": null,
   "metadata": {},
   "outputs": [],
   "source": [
    "fk = vec(K)' * kron(Q, a*a') + (kron(Q, a*a') * vec(K))'\n",
    "# fk = 2 * vec(K)' * kron(Q, a*a')\n",
    "fq = kron(a'*K,a'*K)"
   ]
  },
  {
   "cell_type": "code",
   "execution_count": null,
   "metadata": {},
   "outputs": [],
   "source": [
    "fq_,fk_ = eval_diff_numeric(vec(Q),vec(K))"
   ]
  },
  {
   "cell_type": "code",
   "execution_count": null,
   "metadata": {},
   "outputs": [],
   "source": [
    "println(sum(abs.(fq-fq_)))\n",
    "println(sum(abs.(fk-fk_)))"
   ]
  },
  {
   "cell_type": "code",
   "execution_count": null,
   "metadata": {},
   "outputs": [],
   "source": [
    "print_jl(fq_)\n",
    "print_jl(fk_)"
   ]
  },
  {
   "cell_type": "code",
   "execution_count": null,
   "metadata": {},
   "outputs": [],
   "source": []
  }
 ],
 "metadata": {
  "kernelspec": {
   "display_name": "Julia 1.9.4",
   "language": "julia",
   "name": "julia-1.9"
  },
  "language_info": {
   "file_extension": ".jl",
   "mimetype": "application/julia",
   "name": "julia",
   "version": "1.9.4"
  }
 },
 "nbformat": 4,
 "nbformat_minor": 2
}
