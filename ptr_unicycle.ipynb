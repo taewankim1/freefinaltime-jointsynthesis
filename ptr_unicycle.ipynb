{
 "cells": [
  {
   "cell_type": "code",
   "execution_count": null,
   "metadata": {},
   "outputs": [],
   "source": [
    "include(\"./trajopt/utils.jl\")\n",
    "include(\"./trajopt/dynamics.jl\")\n",
    "include(\"./trajopt/constraint.jl\")\n",
    "include(\"./trajopt/costfunction.jl\")\n",
    "include(\"./trajopt/scaling.jl\")\n",
    "include(\"./trajopt/scp.jl\")\n",
    "include(\"./trajopt/discretize.jl\")"
   ]
  },
  {
   "cell_type": "code",
   "execution_count": null,
   "metadata": {},
   "outputs": [],
   "source": [
    "ix = 3\n",
    "iu = 2\n",
    "N = 15\n",
    "dynamics = Unicycle()"
   ]
  },
  {
   "cell_type": "code",
   "execution_count": null,
   "metadata": {},
   "outputs": [],
   "source": [
    "function get_H_obs(rx,ry)\n",
    "    return diagm([1/rx,1/ry])\n",
    "end\n",
    "c_list = []\n",
    "H_list = []\n",
    "c1 = [1,2]\n",
    "H1 = get_H_obs(0.75,1.5)\n",
    "push!(c_list,c1)\n",
    "push!(H_list,H1)\n",
    "c2 = [4,3]\n",
    "H2 = get_H_obs(0.75,1.5)\n",
    "push!(c_list,c2)\n",
    "push!(H_list,H2)"
   ]
  },
  {
   "cell_type": "code",
   "execution_count": null,
   "metadata": {},
   "outputs": [],
   "source": [
    "vmax = 2\n",
    "vmin = 0\n",
    "wmax = 1\n",
    "wmin = -1\n",
    "Ac = [1 0;0 1;-1 0;0 -1];\n",
    "bc = [vmax;wmax;-vmin;-wmin];\n",
    "input_const = InputLinear(Ac,bc)\n",
    "obstacle_const1 = Obstacle(H_list[1],c_list[1])\n",
    "obstacle_const2 = Obstacle(H_list[2],c_list[2])\n",
    "list_const = [input_const,obstacle_const1,obstacle_const2]"
   ]
  },
  {
   "cell_type": "code",
   "execution_count": null,
   "metadata": {},
   "outputs": [],
   "source": [
    "xi = [0;0;0];\n",
    "xf = [5;5;0];"
   ]
  },
  {
   "cell_type": "code",
   "execution_count": null,
   "metadata": {},
   "outputs": [],
   "source": [
    "x0 = zeros(ix,N+1);\n",
    "u0 = 0.1*ones(iu,N+1);\n",
    "tf0 = 5.0;\n",
    "dt0 = tf0/N*ones(N);\n",
    "for i = 1:N+1\n",
    "    x0[:,i] = (N-i+1)/N*xi+(i-1)/N*xf;\n",
    "end"
   ]
  },
  {
   "cell_type": "code",
   "execution_count": null,
   "metadata": {},
   "outputs": [],
   "source": [
    "p2 = Plots.plot(; size=(500,500))\n",
    "plot!(x0[1,:],x0[2,:],c=:deepskyblue3,linestyle=:dash,linewidth=1.5,label=nothing)\n",
    "scatter!(x0[1,:],x0[2,:],c=:deepskyblue3,linewidth=1.5,label=nothing)\n",
    "for (idx,(ce, H)) in enumerate(zip(c_list, H_list))\n",
    "    label = nothing\n",
    "    if idx == 1\n",
    "        label = \"obstacle\"\n",
    "    end\n",
    "    plot_ellipse(p2,inv(H)*inv(H),ce,\"red3\",label=label)\n",
    "end\n",
    "annotate!(0.2, 0.5, text(\"Initial\", :black, :center))\n",
    "annotate!(4.8, 4.5, text(\"Final\", :black, :center))\n",
    "display(p2)"
   ]
  },
  {
   "cell_type": "code",
   "execution_count": null,
   "metadata": {},
   "outputs": [],
   "source": [
    "xmin = [0;0;0];\n",
    "xmax = [5;5;pi];\n",
    "umin = [0;0];\n",
    "umax = [2;1];\n",
    "min_dt = 0.1;\n",
    "# max_dt = 0.5;\n",
    "max_dt = 2;\n",
    "scaler = Scaling(xmin, xmax, umin, umax, tf0, min_dt,max_dt)\n",
    "@assert max_dt * N >= tf0 "
   ]
  },
  {
   "cell_type": "code",
   "execution_count": null,
   "metadata": {},
   "outputs": [],
   "source": [
    "max_iter = 30;\n",
    "w_tf = 0.0;\n",
    "w_c = 1e-1;\n",
    "w_rate = 1e-3;\n",
    "w_param = 0.0;\n",
    "w_vc = 1e2;\n",
    "w_tr::Float64 = 5*1e-1;\n",
    "tol_vc = 1e-6;\n",
    "tol_tr = 1e-4;\n",
    "tol_dyn = 1e-1;\n",
    "tr_norm = \"quad\";\n",
    "verbosity = true;"
   ]
  },
  {
   "cell_type": "code",
   "execution_count": null,
   "metadata": {},
   "outputs": [],
   "source": [
    "ptr = PTR(N,tf0,max_iter,dynamics,list_const,scaler,\n",
    "    w_tf,w_c,w_rate,w_param,w_vc,w_tr,\n",
    "    tol_vc,tol_tr,tol_dyn,\n",
    "    tr_norm,verbosity)"
   ]
  },
  {
   "cell_type": "code",
   "execution_count": null,
   "metadata": {},
   "outputs": [],
   "source": [
    "run(ptr,x0,u0,dt0,xi,xf,\"Gurobi\")"
   ]
  },
  {
   "cell_type": "code",
   "execution_count": null,
   "metadata": {},
   "outputs": [],
   "source": [
    "p2 = Plots.plot(; size=(500,500))\n",
    "plot!(ptr.solution.xprop[1,:],ptr.solution.xprop[2,:],c=:deepskyblue3,linestyle=:dash,linewidth=1.5,label=nothing)\n",
    "scatter!(ptr.solution.x[1,:],ptr.solution.x[2,:],c=:deepskyblue3,linewidth=1.5,label=nothing)\n",
    "for (idx,(ce, H)) in enumerate(zip(c_list, H_list))\n",
    "    label = nothing\n",
    "    if idx == 1\n",
    "        label = \"obstacle\"\n",
    "    end\n",
    "    plot_ellipse(p2,inv(H)*inv(H),ce,\"red3\",label=label)\n",
    "end\n",
    "annotate!(0.2, 0.5, text(\"Initial\", :black, :center))\n",
    "annotate!(4.8, 4.5, text(\"Final\", :black, :center))\n",
    "display(p2)"
   ]
  },
  {
   "cell_type": "code",
   "execution_count": null,
   "metadata": {},
   "outputs": [],
   "source": [
    "p1 = plot(ptr.solution.t,ptr.solution.u[1,:])\n",
    "plot!(ptr.solution.t,ptr.solution.t.*0 .+ vmax,linestyle=:dash)\n",
    "plot!(ptr.solution.t,ptr.solution.t.*0 .- vmax,linestyle=:dash)\n",
    "p2 = plot(ptr.solution.t,ptr.solution.u[2,:])\n",
    "plot!(ptr.solution.t,ptr.solution.t.*0 .+ wmax,linestyle=:dash)\n",
    "plot!(ptr.solution.t,ptr.solution.t.*0 .- wmax,linestyle=:dash)\n",
    "plot(p1,p2,layout=(1,2),size=(500,220))"
   ]
  },
  {
   "cell_type": "markdown",
   "metadata": {},
   "source": [
    "# save"
   ]
  },
  {
   "cell_type": "code",
   "execution_count": null,
   "metadata": {},
   "outputs": [],
   "source": [
    "my_dict = Dict(\"x\" => ptr.solution.x, \"u\" => ptr.solution.u, \"t\" => ptr.solution.t)"
   ]
  },
  {
   "cell_type": "code",
   "execution_count": null,
   "metadata": {},
   "outputs": [],
   "source": [
    "# using JLD2, FileIO\n",
    "\n",
    "# @save \"./data/unicycle_N15_traj\" my_dict"
   ]
  },
  {
   "cell_type": "code",
   "execution_count": null,
   "metadata": {},
   "outputs": [],
   "source": []
  }
 ],
 "metadata": {
  "kernelspec": {
   "display_name": "Julia 1.9.4",
   "language": "julia",
   "name": "julia-1.9"
  },
  "language_info": {
   "file_extension": ".jl",
   "mimetype": "application/julia",
   "name": "julia",
   "version": "1.9.4"
  }
 },
 "nbformat": 4,
 "nbformat_minor": 2
}
