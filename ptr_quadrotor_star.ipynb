{
 "cells": [
  {
   "cell_type": "code",
   "execution_count": 1,
   "metadata": {},
   "outputs": [
    {
     "ename": "LoadError",
     "evalue": "LoadError: UndefVarError: `Rocket` not defined\nin expression starting at /Users/taewankim/Documents/Code/Personal/JointSynthesisFreeFinal/trajopt/constraint.jl:126",
     "output_type": "error",
     "traceback": [
      "LoadError: UndefVarError: `Rocket` not defined\n",
      "in expression starting at /Users/taewankim/Documents/Code/Personal/JointSynthesisFreeFinal/trajopt/constraint.jl:126\n",
      "\n",
      "Stacktrace:\n",
      " [1] top-level scope\n",
      "   @ ~/Documents/Code/Personal/JointSynthesisFreeFinal/trajopt/constraint.jl:126"
     ]
    }
   ],
   "source": [
    "include(\"./trajopt/utils.jl\")\n",
    "include(\"./trajopt/dynamics.jl\")\n",
    "include(\"./trajopt/constraint.jl\")\n",
    "include(\"./trajopt/costfunction.jl\")\n",
    "include(\"./trajopt/scaling.jl\")\n",
    "include(\"./trajopt/scp.jl\")\n",
    "include(\"./trajopt/discretize.jl\")"
   ]
  },
  {
   "cell_type": "code",
   "execution_count": 2,
   "metadata": {},
   "outputs": [
    {
     "data": {
      "text/plain": [
       "QuadrotorDynamics(12, 4, 9, 7, [0.0 0.0 … 0.0 0.0; 0.0 0.0 … 0.0 0.0; … ; 0.0 0.0 … 0.0 1.0; 0.0 0.0 … 0.0 0.0], [0.0 0.0 0.0 0.0; 0.0 0.0 0.0 0.0; … ; 0.0 0.0 0.0 0.0; 1.0 0.0 0.0 0.0], [0.0 0.0 … 0.0 0.0; 0.0 0.0 … 0.0 0.0; … ; 0.0 0.0 … 1.0 0.0; 0.0 0.0 … 0.0 1.0], [0.0, 0.0, 0.0, 0.0, 0.0, 0.0, 0.0, 0.0, 0.0], 1.325, 9.81, 0.03843, 0.02719, 0.060528)"
      ]
     },
     "metadata": {},
     "output_type": "display_data"
    }
   ],
   "source": [
    "ix = 12\n",
    "iu = 4\n",
    "N = 15\n",
    "dynamics = QuadrotorDynamics()"
   ]
  },
  {
   "cell_type": "code",
   "execution_count": null,
   "metadata": {},
   "outputs": [],
   "source": [
    "v_max = 5\n",
    "att_max = pi/3\n",
    "att_vel_max = pi\n",
    "F_max = 20\n",
    "M_max = 3\n",
    "rotor_const = QuadrotorConstraint(v_max,att_max,att_vel_max,F_max,M_max)\n",
    "r = 5.0\n",
    "h = 5.0\n",
    "phase_const = QuadrotorMultiphaseConstraint(N,r,h)\n",
    "# list_const = [rotor_const];\n",
    "list_const = [rotor_const,phase_const];"
   ]
  },
  {
   "cell_type": "code",
   "execution_count": null,
   "metadata": {},
   "outputs": [],
   "source": [
    "xi = [phase_const.P1[1],phase_const.P1[2],h, 0,0,0, deg2rad(0),deg2rad(0),deg2rad(0), 0,0,0]\n",
    "# xf = [phase_const.P2[1],phase_const.P2[2],h, 0,0,0, deg2rad(0),deg2rad(0),deg2rad(0), 0,0,0]\n",
    "xf = copy(xi)\n",
    "@assert length(xi) == ix\n",
    "@assert length(xf) == ix"
   ]
  },
  {
   "cell_type": "code",
   "execution_count": null,
   "metadata": {},
   "outputs": [],
   "source": [
    "x0 = zeros(ix,N+1);\n",
    "u0 = zeros(iu,N+1);\n",
    "x0[3,:] .= h\n",
    "u0[1,:] .= dynamics.m * dynamics.g\n",
    "tf0 = 30.0;\n",
    "dt0 = tf0/N*ones(N);\n",
    "\n",
    "for i = 1:N+1\n",
    "    x0[:,i] = (N-i+1)/N*xi+(i-1)/N*xf;\n",
    "end"
   ]
  },
  {
   "cell_type": "code",
   "execution_count": null,
   "metadata": {},
   "outputs": [],
   "source": [
    "function get_x0(x0,N1,N2,P1,P2)\n",
    "    N_ = N2 - N1\n",
    "    for i = N1:N2\n",
    "        x0[1:2,i] = (N2-i)/(N_)*P1+(i-N1)/(N_)*P2;\n",
    "        # println(i)\n",
    "    end\n",
    "    return\n",
    "end\n",
    "get_x0(x0,phase_const.N1,phase_const.N2,phase_const.P1,phase_const.P2)\n",
    "get_x0(x0,phase_const.N2,phase_const.N3,phase_const.P2,phase_const.P3)\n",
    "get_x0(x0,phase_const.N3,phase_const.N4,phase_const.P3,phase_const.P4)\n",
    "get_x0(x0,phase_const.N4,phase_const.N5,phase_const.P4,phase_const.P5)\n",
    "get_x0(x0,phase_const.N5,phase_const.N6,phase_const.P5,phase_const.P1)\n",
    "xdes = copy(x0[1:2,:])"
   ]
  },
  {
   "cell_type": "code",
   "execution_count": null,
   "metadata": {},
   "outputs": [],
   "source": [
    "plot(x0[1,:],x0[2,:],aspect_ratio=:equal)\n",
    "plot!(x0[1,:],x0[2,:],seriestype=:scatter)"
   ]
  },
  {
   "cell_type": "code",
   "execution_count": null,
   "metadata": {},
   "outputs": [],
   "source": [
    "xmin = zeros(ix);\n",
    "xmax = [5,5,5, v_max,v_max,v_max, att_max,att_max,att_max, att_vel_max,att_vel_max,att_vel_max];\n",
    "umin = zeros(iu);\n",
    "umax = [F_max,M_max,M_max,M_max];\n",
    "min_dt = 0.1;\n",
    "max_dt = 10.0;\n",
    "scaler = Scaling(xmin, xmax, umin, umax, tf0, min_dt,max_dt)\n",
    "@assert max_dt * N >= tf0 "
   ]
  },
  {
   "cell_type": "code",
   "execution_count": null,
   "metadata": {},
   "outputs": [],
   "source": [
    "max_iter = 50;\n",
    "w_tf = 2*1e0;\n",
    "w_c = 0.0;\n",
    "w_rate = 1e1;\n",
    "w_param = 0.0;\n",
    "w_vc = 1e2;\n",
    "w_tr::Float64 = 5*1e1;\n",
    "tol_vc = 1e-6;\n",
    "tol_tr = 1e-3;\n",
    "tol_dyn = 1e-1;\n",
    "tr_norm = \"quad\";\n",
    "verbosity = true;\n",
    "# type_tf_free = \"tf_free\";\n",
    "type_tf_free = \"five_phase\";"
   ]
  },
  {
   "cell_type": "code",
   "execution_count": null,
   "metadata": {},
   "outputs": [],
   "source": [
    "ptr = PTR(N,tf0,max_iter,dynamics,list_const,scaler,\n",
    "    w_tf,w_c,w_rate,w_param,w_vc,w_tr,\n",
    "    tol_vc,tol_tr,tol_dyn,\n",
    "    tr_norm,verbosity,type_tf_free=type_tf_free)"
   ]
  },
  {
   "cell_type": "code",
   "execution_count": null,
   "metadata": {},
   "outputs": [],
   "source": [
    "run(ptr,x0,u0,dt0,xi,xf,\"Gurobi\")"
   ]
  },
  {
   "cell_type": "code",
   "execution_count": null,
   "metadata": {},
   "outputs": [],
   "source": [
    "# plot(x0[1,:],x0[2,:],linestyle=:dash,aspect_ratio=:equal)\n",
    "plot(ptr.solution.xprop[1,:],ptr.solution.xprop[2,:],aspect_ratio=:equal,label=\"nominal trajectory\")\n",
    "plot!(ptr.solution.x[1,:],ptr.solution.x[2,:],seriestype=:scatter)\n",
    "# plot!(ptr.solution.x[1,:],ptr.solution.x[2,:])"
   ]
  },
  {
   "cell_type": "code",
   "execution_count": null,
   "metadata": {},
   "outputs": [],
   "source": [
    "plot(ptr.solution.t,ptr.solution.x[3,:],seriestype=:scatter)\n",
    "plot!(ptr.solution.tprop,ptr.solution.xprop[3,:])"
   ]
  },
  {
   "cell_type": "code",
   "execution_count": null,
   "metadata": {},
   "outputs": [],
   "source": [
    "p1 = plot(ptr.solution.t,ptr.solution.x[4,:],seriestype = :scatter,label=\"\")\n",
    "plot!(ptr.solution.tprop,ptr.solution.xprop[4,:],label=\"vx\")\n",
    "p2 = plot(ptr.solution.t,ptr.solution.x[5,:],seriestype = :scatter,label=\"\")\n",
    "plot!(ptr.solution.tprop,ptr.solution.xprop[5,:],label=\"vy\")\n",
    "p3 = plot(ptr.solution.t,ptr.solution.x[6,:],seriestype = :scatter,label=\"\")\n",
    "plot!(ptr.solution.tprop,ptr.solution.xprop[6,:],label=\"vz\")\n",
    "\n",
    "plot(p1,p2,p3,layout=(3,1))"
   ]
  },
  {
   "cell_type": "code",
   "execution_count": null,
   "metadata": {},
   "outputs": [],
   "source": [
    "p1 = plot(ptr.solution.t,ptr.solution.x[7,:],seriestype = :scatter,label=\"\")\n",
    "plot!(ptr.solution.tprop,ptr.solution.xprop[7,:],label=\"roll\")\n",
    "p2 = plot(ptr.solution.t,ptr.solution.x[8,:],seriestype = :scatter,label=\"\")\n",
    "plot!(ptr.solution.tprop,ptr.solution.xprop[8,:],label=\"pitch\")\n",
    "p3 = plot(ptr.solution.t,ptr.solution.x[9,:],seriestype = :scatter,label=\"\")\n",
    "plot!(ptr.solution.tprop,ptr.solution.xprop[9,:],label=\"yaw\")\n",
    "\n",
    "plot(p1,p2,p3,layout=(3,1))"
   ]
  },
  {
   "cell_type": "code",
   "execution_count": null,
   "metadata": {},
   "outputs": [],
   "source": [
    "p1 = plot(ptr.solution.t,ptr.solution.x[10,:],seriestype = :scatter,label=\"\")\n",
    "plot!(ptr.solution.tprop,ptr.solution.xprop[10,:],label=\"p\")\n",
    "p2 = plot(ptr.solution.t,ptr.solution.x[11,:],seriestype = :scatter,label=\"\")\n",
    "plot!(ptr.solution.tprop,ptr.solution.xprop[11,:],label=\"q\")\n",
    "p3 = plot(ptr.solution.t,ptr.solution.x[12,:],seriestype = :scatter,label=\"\")\n",
    "plot!(ptr.solution.tprop,ptr.solution.xprop[12,:],label=\"r\")\n",
    "\n",
    "plot(p1,p2,p3,layout=(3,1))"
   ]
  },
  {
   "cell_type": "code",
   "execution_count": null,
   "metadata": {},
   "outputs": [],
   "source": [
    "p1 = plot(ptr.solution.t,ptr.solution.u[1,:],seriestype = :scatter,label=\"F\")\n",
    "plot!(ptr.solution.t,ptr.solution.u[1,:],label=\"\")\n",
    "p2 = plot(ptr.solution.t,ptr.solution.u[2,:],seriestype = :scatter,label=\"Mx\")\n",
    "plot!(ptr.solution.t,ptr.solution.u[2,:],label=\"\")\n",
    "p3 = plot(ptr.solution.t,ptr.solution.u[3,:],seriestype = :scatter,label=\"My\")\n",
    "plot!(ptr.solution.t,ptr.solution.u[3,:],label=\"\")\n",
    "p4 = plot(ptr.solution.t,ptr.solution.u[4,:],seriestype = :scatter,label=\"Mz\")\n",
    "plot!(ptr.solution.t,ptr.solution.u[4,:],label=\"\")\n",
    "\n",
    "plot(p1,p2,p3,p4,layout=(4,1))"
   ]
  },
  {
   "cell_type": "code",
   "execution_count": null,
   "metadata": {},
   "outputs": [],
   "source": [
    "using JLD2, FileIO\n",
    "my_dict = Dict(\"x\" => ptr.solution.x, \"u\" => ptr.solution.u, \"t\" => ptr.solution.t)\n",
    "@save \"./data/quadstar_N15_traj\" my_dict"
   ]
  },
  {
   "cell_type": "code",
   "execution_count": null,
   "metadata": {},
   "outputs": [],
   "source": []
  }
 ],
 "metadata": {
  "kernelspec": {
   "display_name": "Julia 1.9.4",
   "language": "julia",
   "name": "julia-1.9"
  },
  "language_info": {
   "file_extension": ".jl",
   "mimetype": "application/julia",
   "name": "julia",
   "version": "1.9.4"
  }
 },
 "nbformat": 4,
 "nbformat_minor": 2
}
