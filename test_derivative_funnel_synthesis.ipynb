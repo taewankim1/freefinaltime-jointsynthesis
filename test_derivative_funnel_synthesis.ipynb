{
 "cells": [
  {
   "cell_type": "code",
   "execution_count": 1,
   "metadata": {},
   "outputs": [
    {
     "data": {
      "text/plain": [
       "discretize_foh (generic function with 2 methods)"
      ]
     },
     "metadata": {},
     "output_type": "display_data"
    }
   ],
   "source": [
    "include(\"./trajopt/utils.jl\")\n",
    "include(\"./trajopt/dynamics.jl\")\n",
    "include(\"./funlopt/funl_utils.jl\")\n",
    "include(\"./funlopt/funl_dynamics.jl\")\n",
    "# include(\"./funlopt/funl_constraint.jl\")\n",
    "# include(\"./trajopt/scaling.jl\")"
   ]
  },
  {
   "cell_type": "code",
   "execution_count": 2,
   "metadata": {},
   "outputs": [],
   "source": [
    "# load nominal trajectory\n",
    "using JLD2, FileIO\n",
    "@load \"./data/xuQYZ_unicycle_0328\" my_dict\n",
    "xnom = my_dict[\"x\"]\n",
    "unom = my_dict[\"u\"]\n",
    "tnom = my_dict[\"t\"]\n",
    "Qnom = my_dict[\"Q\"]\n",
    "Ynom = my_dict[\"Y\"]\n",
    "Znom = my_dict[\"Z\"]\n",
    "N = size(xnom,2) - 1\n",
    "dtnom = zeros(N)\n",
    "for i in 1:N\n",
    "    dtnom[i] = tnom[i+1]-tnom[i]\n",
    "end"
   ]
  },
  {
   "cell_type": "code",
   "execution_count": 3,
   "metadata": {},
   "outputs": [],
   "source": [
    "ix = 3\n",
    "iu = 2\n",
    "iϕ = 2\n",
    "iv = 2\n",
    "iψ = iϕ*iv\n",
    "iμ = iψ\n",
    "@assert size(xnom,2) - 1 == N"
   ]
  },
  {
   "cell_type": "code",
   "execution_count": 4,
   "metadata": {},
   "outputs": [
    {
     "data": {
      "text/plain": [
       "NonlinearDLMI(0.9, 3, 2, 9, 6, 1, 9, 16, [0.0 0.0 1.0; 0.0 0.0 0.0], [0.0 0.0; 1.0 0.0], [1 0 … 0 0; 0 0 … 0 0; … ; 0 0 … 0 0; 0 0 … 0 1], [1 0 … 0 0; 0 0 … 0 0; … ; 0 0 … 0 0; 0 0 … 0 1])"
      ]
     },
     "metadata": {},
     "output_type": "display_data"
    }
   ],
   "source": [
    "dynamics = Unicycle()\n",
    "decay_rate = 0.9\n",
    "DLMI = NonlinearDLMI(decay_rate,ix,iu,dynamics.Cv,dynamics.Dvu)"
   ]
  },
  {
   "cell_type": "code",
   "execution_count": 5,
   "metadata": {},
   "outputs": [
    {
     "data": {
      "text/plain": [
       "([0.0 0.0 -0.8563473835516268; 0.0 0.0 1.2805836524424632; 0.0 0.0 0.0], [0.831263029672674 0.0; 0.5558792814086592 0.0; 0.0 1.0])"
      ]
     },
     "metadata": {},
     "output_type": "display_data"
    }
   ],
   "source": [
    "idx = 4\n",
    "A,B = diff(dynamics,xnom[:,idx],unom[:,idx])"
   ]
  },
  {
   "cell_type": "code",
   "execution_count": 6,
   "metadata": {},
   "outputs": [
    {
     "data": {
      "text/plain": [
       "discretize_foh (generic function with 2 methods)"
      ]
     },
     "metadata": {},
     "output_type": "display_data"
    }
   ],
   "source": [
    "include(\"./funlopt/funl_dynamics.jl\")"
   ]
  },
  {
   "cell_type": "code",
   "execution_count": 7,
   "metadata": {},
   "outputs": [
    {
     "data": {
      "text/plain": [
       "([-5.443958518535371 0.20917421589151491 … 0.0 0.0; 4.0720557962353405 0.3157353960062347 … 0.0 0.0; … ; 0.0 0.0 … 0.3157353960062347 2.7724049189726627; 0.0 0.0 … 0.737652916730961 -0.2302225672458902], sparse([1, 2, 3, 4, 5, 6, 7, 8, 9, 3  …  9, 1, 2, 3, 4, 5, 6, 7, 8, 9], [1, 1, 1, 1, 1, 1, 1, 1, 1, 2, 2, 2, 2, 2, 3, 3, 3, 3, 3, 3, 3, 3, 3, 4, 4, 4, 4, 4, 5, 5, 5, 5, 5, 5, 5, 5, 5, 6, 6, 6, 6, 6, 7, 8, 9, 10, 11, 12, 13, 14, 15, 16, 16, 16, 16, 16, 16, 16, 16, 16], [-0.3095815761141645, 1.0900968242270404, 1.8625012227580835, 1.0900968242270404, -2.288640781712772, -3.9063346957702767, 1.8625012227580835, -3.9063346957702767, -6.6674561174065365, -0.10749451322758594  …  1.0, 0.597469247776017, -1.0915148723925099, -0.3558875950748849, -1.0915148723925099, 3.01892654477545, 2.860694000006466, -0.3558875950748849, 2.860694000006466, 4.979961798126741], 9, 16))"
      ]
     },
     "metadata": {},
     "output_type": "display_data"
    }
   ],
   "source": [
    "idx = 4\n",
    "# Q = Qnom[:,:,idx]\n",
    "# K = Ynom[:,:,idx] * inv(Qnom[:,:,idx])\n",
    "# Z = Znom[:,:,idx]\n",
    "lam = 1.5\n",
    "Q = randn(3,3)\n",
    "K = randn(2,3)\n",
    "Z = randn(3,3)\n",
    "# Q = Q' + Q\n",
    "X = vec(Q)\n",
    "U = vcat(vec(K),vec(Z),lam)\n",
    "Fx_n,Fu_n = diff_numeric(DLMI,X,U,A,B)\n",
    "Fx,Fu = diff(DLMI,X,U,A,B)"
   ]
  },
  {
   "cell_type": "code",
   "execution_count": 8,
   "metadata": {},
   "outputs": [
    {
     "name": "stdout",
     "output_type": "stream",
     "text": [
      "2.4162988832010512e-9\n"
     ]
    }
   ],
   "source": [
    "println(sum(abs.(Fx_n-Fx)))"
   ]
  },
  {
   "cell_type": "code",
   "execution_count": 9,
   "metadata": {},
   "outputs": [
    {
     "name": "stdout",
     "output_type": "stream",
     "text": [
      "2.3887437583525184e-9\n"
     ]
    }
   ],
   "source": [
    "println(sum(abs.(Fu_n-Fu)))"
   ]
  },
  {
   "cell_type": "code",
   "execution_count": 10,
   "metadata": {},
   "outputs": [],
   "source": [
    "using BenchmarkTools"
   ]
  },
  {
   "cell_type": "code",
   "execution_count": 11,
   "metadata": {},
   "outputs": [
    {
     "data": {
      "text/plain": [
       "BenchmarkTools.Trial: 10000 samples with 1 evaluation.\n",
       " Range \u001b[90m(\u001b[39m\u001b[36m\u001b[1mmin\u001b[22m\u001b[39m … \u001b[35mmax\u001b[39m\u001b[90m):  \u001b[39m\u001b[36m\u001b[1m 95.375 μs\u001b[22m\u001b[39m … \u001b[35m 11.194 ms\u001b[39m  \u001b[90m┊\u001b[39m GC \u001b[90m(\u001b[39mmin … max\u001b[90m): \u001b[39m0.00% … 98.55%\n",
       " Time  \u001b[90m(\u001b[39m\u001b[34m\u001b[1mmedian\u001b[22m\u001b[39m\u001b[90m):     \u001b[39m\u001b[34m\u001b[1m 99.250 μs               \u001b[22m\u001b[39m\u001b[90m┊\u001b[39m GC \u001b[90m(\u001b[39mmedian\u001b[90m):    \u001b[39m0.00%\n",
       " Time  \u001b[90m(\u001b[39m\u001b[32m\u001b[1mmean\u001b[22m\u001b[39m ± \u001b[32mσ\u001b[39m\u001b[90m):   \u001b[39m\u001b[32m\u001b[1m109.822 μs\u001b[22m\u001b[39m ± \u001b[32m206.751 μs\u001b[39m  \u001b[90m┊\u001b[39m GC \u001b[90m(\u001b[39mmean ± σ\u001b[90m):  \u001b[39m8.05% ±  5.30%\n",
       "\n",
       "  \u001b[39m \u001b[39m▃\u001b[39m█\u001b[39m▁\u001b[39m \u001b[39m▂\u001b[34m▁\u001b[39m\u001b[39m \u001b[39m \u001b[39m \u001b[39m \u001b[39m \u001b[39m \u001b[39m \u001b[39m \u001b[39m \u001b[39m \u001b[39m \u001b[39m \u001b[39m \u001b[39m \u001b[32m \u001b[39m\u001b[39m \u001b[39m \u001b[39m \u001b[39m \u001b[39m \u001b[39m \u001b[39m \u001b[39m \u001b[39m \u001b[39m \u001b[39m \u001b[39m \u001b[39m \u001b[39m \u001b[39m \u001b[39m \u001b[39m \u001b[39m \u001b[39m \u001b[39m \u001b[39m \u001b[39m \u001b[39m \u001b[39m \u001b[39m \u001b[39m \u001b[39m \u001b[39m \u001b[39m \u001b[39m \u001b[39m \u001b[39m \u001b[39m \u001b[39m \u001b[39m \u001b[39m \u001b[39m \u001b[39m \u001b[39m \u001b[39m \u001b[39m \n",
       "  \u001b[39m▃\u001b[39m█\u001b[39m█\u001b[39m█\u001b[39m▇\u001b[39m█\u001b[34m█\u001b[39m\u001b[39m▇\u001b[39m▆\u001b[39m▆\u001b[39m▅\u001b[39m▄\u001b[39m▄\u001b[39m▄\u001b[39m▃\u001b[39m▃\u001b[39m▃\u001b[39m▃\u001b[39m▃\u001b[39m▃\u001b[39m▂\u001b[32m▂\u001b[39m\u001b[39m▂\u001b[39m▂\u001b[39m▂\u001b[39m▂\u001b[39m▂\u001b[39m▂\u001b[39m▂\u001b[39m▂\u001b[39m▂\u001b[39m▂\u001b[39m▂\u001b[39m▂\u001b[39m▂\u001b[39m▂\u001b[39m▂\u001b[39m▂\u001b[39m▂\u001b[39m▂\u001b[39m▂\u001b[39m▂\u001b[39m▂\u001b[39m▂\u001b[39m▂\u001b[39m▂\u001b[39m▂\u001b[39m▂\u001b[39m▂\u001b[39m▂\u001b[39m▂\u001b[39m▂\u001b[39m▂\u001b[39m▂\u001b[39m▂\u001b[39m▂\u001b[39m▂\u001b[39m▁\u001b[39m▂\u001b[39m▂\u001b[39m▂\u001b[39m \u001b[39m▃\n",
       "  95.4 μs\u001b[90m          Histogram: frequency by time\u001b[39m          137 μs \u001b[0m\u001b[1m<\u001b[22m\n",
       "\n",
       " Memory estimate\u001b[90m: \u001b[39m\u001b[33m144.61 KiB\u001b[39m, allocs estimate\u001b[90m: \u001b[39m\u001b[33m1530\u001b[39m."
      ]
     },
     "metadata": {},
     "output_type": "display_data"
    }
   ],
   "source": [
    "@benchmark diff_numeric(DLMI,X,U,A,B)"
   ]
  },
  {
   "cell_type": "code",
   "execution_count": 12,
   "metadata": {},
   "outputs": [
    {
     "data": {
      "text/plain": [
       "BenchmarkTools.Trial: 10000 samples with 1 evaluation.\n",
       " Range \u001b[90m(\u001b[39m\u001b[36m\u001b[1mmin\u001b[22m\u001b[39m … \u001b[35mmax\u001b[39m\u001b[90m):  \u001b[39m\u001b[36m\u001b[1m18.292 μs\u001b[22m\u001b[39m … \u001b[35m 11.656 ms\u001b[39m  \u001b[90m┊\u001b[39m GC \u001b[90m(\u001b[39mmin … max\u001b[90m): \u001b[39m 0.00% … 98.68%\n",
       " Time  \u001b[90m(\u001b[39m\u001b[34m\u001b[1mmedian\u001b[22m\u001b[39m\u001b[90m):     \u001b[39m\u001b[34m\u001b[1m30.250 μs               \u001b[22m\u001b[39m\u001b[90m┊\u001b[39m GC \u001b[90m(\u001b[39mmedian\u001b[90m):    \u001b[39m 0.00%\n",
       " Time  \u001b[90m(\u001b[39m\u001b[32m\u001b[1mmean\u001b[22m\u001b[39m ± \u001b[32mσ\u001b[39m\u001b[90m):   \u001b[39m\u001b[32m\u001b[1m45.651 μs\u001b[22m\u001b[39m ± \u001b[32m260.964 μs\u001b[39m  \u001b[90m┊\u001b[39m GC \u001b[90m(\u001b[39mmean ± σ\u001b[90m):  \u001b[39m33.51% ±  6.81%\n",
       "\n",
       "  \u001b[39m \u001b[39m \u001b[39m \u001b[39m \u001b[39m \u001b[39m \u001b[39m \u001b[39m \u001b[39m \u001b[39m \u001b[39m \u001b[39m \u001b[39m \u001b[39m▁\u001b[39m▆\u001b[39m█\u001b[39m█\u001b[39m▃\u001b[34m▆\u001b[39m\u001b[39m▅\u001b[39m▃\u001b[39m▃\u001b[39m▂\u001b[39m▂\u001b[39m▂\u001b[39m▁\u001b[39m \u001b[39m \u001b[39m \u001b[39m \u001b[39m \u001b[39m \u001b[39m \u001b[39m \u001b[39m \u001b[39m \u001b[39m \u001b[39m \u001b[39m \u001b[39m \u001b[39m \u001b[32m \u001b[39m\u001b[39m \u001b[39m \u001b[39m \u001b[39m \u001b[39m \u001b[39m \u001b[39m \u001b[39m \u001b[39m \u001b[39m \u001b[39m \u001b[39m \u001b[39m \u001b[39m \u001b[39m \u001b[39m \u001b[39m \u001b[39m \u001b[39m \u001b[39m \n",
       "  \u001b[39m█\u001b[39m█\u001b[39m▇\u001b[39m▆\u001b[39m▄\u001b[39m▄\u001b[39m▅\u001b[39m▄\u001b[39m▃\u001b[39m▃\u001b[39m▄\u001b[39m▅\u001b[39m▆\u001b[39m█\u001b[39m█\u001b[39m█\u001b[39m█\u001b[39m█\u001b[34m█\u001b[39m\u001b[39m█\u001b[39m█\u001b[39m█\u001b[39m█\u001b[39m█\u001b[39m█\u001b[39m█\u001b[39m█\u001b[39m▆\u001b[39m▅\u001b[39m▄\u001b[39m▃\u001b[39m▃\u001b[39m▃\u001b[39m▃\u001b[39m▂\u001b[39m▃\u001b[39m▂\u001b[39m▂\u001b[39m▂\u001b[39m▂\u001b[39m▂\u001b[32m▂\u001b[39m\u001b[39m▂\u001b[39m▂\u001b[39m▂\u001b[39m▂\u001b[39m▂\u001b[39m▂\u001b[39m▂\u001b[39m▂\u001b[39m▂\u001b[39m▂\u001b[39m▂\u001b[39m▂\u001b[39m▂\u001b[39m▂\u001b[39m▂\u001b[39m▁\u001b[39m▂\u001b[39m▂\u001b[39m \u001b[39m▄\n",
       "  18.3 μs\u001b[90m         Histogram: frequency by time\u001b[39m           58 μs \u001b[0m\u001b[1m<\u001b[22m\n",
       "\n",
       " Memory estimate\u001b[90m: \u001b[39m\u001b[33m219.22 KiB\u001b[39m, allocs estimate\u001b[90m: \u001b[39m\u001b[33m241\u001b[39m."
      ]
     },
     "metadata": {},
     "output_type": "display_data"
    }
   ],
   "source": [
    "@benchmark diff(DLMI,X,U,A,B)"
   ]
  },
  {
   "cell_type": "code",
   "execution_count": 13,
   "metadata": {},
   "outputs": [
    {
     "data": {
      "text/plain": [
       "9×16 Matrix{Float64}:\n",
       " -0.309582   0.0       -0.159773  …  0.0  0.0  0.0  0.0  0.0   0.597469\n",
       "  1.0901     0.0       -1.14791      0.0  0.0  0.0  0.0  0.0  -1.09151\n",
       "  1.8625    -0.107495   0.818265     0.0  0.0  0.0  0.0  0.0  -0.355888\n",
       "  1.0901     0.0       -1.14791      0.0  0.0  0.0  0.0  0.0  -1.09151\n",
       " -2.28864    0.0        3.2106       1.0  0.0  0.0  0.0  0.0   3.01893\n",
       " -3.90633    0.619021   1.90952   …  0.0  1.0  0.0  0.0  0.0   2.86069\n",
       "  1.8625    -0.107495   0.818265     0.0  0.0  1.0  0.0  0.0  -0.355888\n",
       " -3.90633    0.619021   1.90952      0.0  0.0  0.0  1.0  0.0   2.86069\n",
       " -6.66746    2.1165    -2.81553      0.0  0.0  0.0  0.0  1.0   4.97996"
      ]
     },
     "metadata": {},
     "output_type": "display_data"
    }
   ],
   "source": [
    "Fu_n"
   ]
  },
  {
   "cell_type": "code",
   "execution_count": 14,
   "metadata": {},
   "outputs": [
    {
     "data": {
      "text/plain": [
       "9×16 SparseMatrixCSC{Float64, Int64} with 60 stored entries:\n",
       "⎡⡧⡧⡧⠑⢄⠀⠀⢸⎤\n",
       "⎢⣷⣷⣷⠀⠀⠑⢄⢸⎥\n",
       "⎣⠉⠉⠉⠀⠀⠀⠀⠉⎦"
      ]
     },
     "metadata": {},
     "output_type": "display_data"
    }
   ],
   "source": [
    "Fu"
   ]
  },
  {
   "cell_type": "code",
   "execution_count": 15,
   "metadata": {},
   "outputs": [
    {
     "data": {
      "text/plain": [
       "2×2 Matrix{Float64}:\n",
       " 0.0  0.0\n",
       " 1.0  0.0"
      ]
     },
     "metadata": {},
     "output_type": "display_data"
    }
   ],
   "source": [
    "DLMI.D"
   ]
  },
  {
   "cell_type": "code",
   "execution_count": 16,
   "metadata": {},
   "outputs": [
    {
     "data": {
      "text/plain": [
       "9×16 Matrix{Float64}:\n",
       " -0.309582   0.0       -0.159773  …  0.0  0.0  0.0  0.0  0.0   0.597469\n",
       "  1.0901     0.0       -1.14791      0.0  0.0  0.0  0.0  0.0  -1.09151\n",
       "  1.8625    -0.107495   0.818265     0.0  0.0  0.0  0.0  0.0  -0.355888\n",
       "  1.0901     0.0       -1.14791      0.0  0.0  0.0  0.0  0.0  -1.09151\n",
       " -2.28864    0.0        3.2106       1.0  0.0  0.0  0.0  0.0   3.01893\n",
       " -3.90633    0.619021   1.90952   …  0.0  1.0  0.0  0.0  0.0   2.86069\n",
       "  1.8625    -0.107495   0.818265     0.0  0.0  1.0  0.0  0.0  -0.355888\n",
       " -3.90633    0.619021   1.90952      0.0  0.0  0.0  1.0  0.0   2.86069\n",
       " -6.66746    2.1165    -2.81553      0.0  0.0  0.0  0.0  1.0   4.97996"
      ]
     },
     "metadata": {},
     "output_type": "display_data"
    }
   ],
   "source": [
    "Fu_n"
   ]
  },
  {
   "cell_type": "code",
   "execution_count": 17,
   "metadata": {},
   "outputs": [
    {
     "data": {
      "text/plain": [
       "9×16 SparseMatrixCSC{Float64, Int64} with 60 stored entries:\n",
       "⎡⡧⡧⡧⠑⢄⠀⠀⢸⎤\n",
       "⎢⣷⣷⣷⠀⠀⠑⢄⢸⎥\n",
       "⎣⠉⠉⠉⠀⠀⠀⠀⠉⎦"
      ]
     },
     "metadata": {},
     "output_type": "display_data"
    }
   ],
   "source": [
    "Fu"
   ]
  },
  {
   "cell_type": "code",
   "execution_count": 18,
   "metadata": {},
   "outputs": [
    {
     "name": "stdout",
     "output_type": "stream",
     "text": [
      "Type is Matrix{Float64}\n",
      "Shape is (9, 9)\n",
      "Type is SparseMatrixCSC{Float64, Int64}\n",
      "Shape is (9, 16)\n"
     ]
    }
   ],
   "source": [
    "print_jl(Fx)\n",
    "print_jl(Fu)"
   ]
  },
  {
   "cell_type": "markdown",
   "metadata": {},
   "source": [
    "# constraint"
   ]
  },
  {
   "cell_type": "code",
   "execution_count": 19,
   "metadata": {},
   "outputs": [
    {
     "data": {
      "text/plain": [
       "16-element Vector{Float64}:\n",
       " -1.3719649622765238\n",
       " -1.3488043458991537\n",
       " -0.7148816619126837\n",
       "  0.2646658488027596\n",
       " -0.3464937015057555\n",
       "  1.8304540695113545\n",
       "  1.1190810076031594\n",
       "  0.7137492291231209\n",
       "  0.03280920634611706\n",
       "  0.9845725640700212\n",
       " -0.6599030139609467\n",
       "  1.6437325069924313\n",
       " -1.5263841055921863\n",
       " -0.4419518747343653\n",
       " -1.7279893024466328\n",
       "  1.5"
      ]
     },
     "metadata": {},
     "output_type": "display_data"
    }
   ],
   "source": [
    "idx = 4\n",
    "# Q = Qnom[:,:,idx]\n",
    "# K = Ynom[:,:,idx] * inv(Qnom[:,:,idx])\n",
    "# Z = Znom[:,:,idx]\n",
    "# lam = 1.3\n",
    "Q = randn(3,3)\n",
    "K = randn(2,3)\n",
    "Z = randn(3,3)\n",
    "lam = 1.5\n",
    "X = vec(Q)\n",
    "U = vcat(vec(K),vec(Z),lam)"
   ]
  },
  {
   "cell_type": "code",
   "execution_count": 20,
   "metadata": {},
   "outputs": [
    {
     "data": {
      "text/plain": [
       "evaluate (generic function with 1 method)"
      ]
     },
     "metadata": {},
     "output_type": "display_data"
    }
   ],
   "source": [
    "a = [1.5;2.0]\n",
    "function evaluate(q,k)\n",
    "    Q = reshape(q,(3,3))\n",
    "    K = reshape(k,(2,3))\n",
    "    return a'*K*Q*K'*a\n",
    "end"
   ]
  },
  {
   "cell_type": "code",
   "execution_count": 21,
   "metadata": {},
   "outputs": [
    {
     "data": {
      "text/plain": [
       "24.580244418840252"
      ]
     },
     "metadata": {},
     "output_type": "display_data"
    }
   ],
   "source": [
    "evaluate(vec(Q),vec(K))"
   ]
  },
  {
   "cell_type": "code",
   "execution_count": 22,
   "metadata": {},
   "outputs": [
    {
     "data": {
      "text/plain": [
       "eval_diff_numeric (generic function with 1 method)"
      ]
     },
     "metadata": {},
     "output_type": "display_data"
    }
   ],
   "source": [
    "function eval_diff_numeric(q,k)\n",
    "    ix = length(q)\n",
    "    iu = length(k)\n",
    "\n",
    "    eps_x = Diagonal{Float64}(I, ix)\n",
    "    eps_u = Diagonal{Float64}(I, iu)\n",
    "    fx = zeros(1,ix)\n",
    "    fu = zeros(1,iu)\n",
    "\n",
    "    h = 2^(-18)\n",
    "    for i in 1:ix\n",
    "        fx[:,i] .= (evaluate(q+h*eps_x[:,i],k) - evaluate(q-h*eps_x[:,i],k)) / (2*h)\n",
    "    end\n",
    "    for i in 1:iu\n",
    "        fu[:,i] .= (evaluate(q,k+h*eps_u[:,i]) - evaluate(q,k-h*eps_u[:,i])) / (2*h)\n",
    "    end\n",
    "    return fx,fu\n",
    "end"
   ]
  },
  {
   "cell_type": "code",
   "execution_count": 29,
   "metadata": {},
   "outputs": [
    {
     "data": {
      "text/plain": [
       "6×6 Matrix{Int64}:\n",
       " 1  0  0  0  0  0\n",
       " 0  0  1  0  0  0\n",
       " 0  0  0  0  1  0\n",
       " 0  1  0  0  0  0\n",
       " 0  0  0  1  0  0\n",
       " 0  0  0  0  0  1"
      ]
     },
     "metadata": {},
     "output_type": "display_data"
    }
   ],
   "source": [
    "Cm = DLMI.Cm"
   ]
  },
  {
   "cell_type": "code",
   "execution_count": 42,
   "metadata": {},
   "outputs": [
    {
     "data": {
      "text/plain": [
       "1×9 adjoint(::Vector{Float64}) with eltype Float64:\n",
       " 22.6153  2.58222  -14.938  2.58222  0.294839  …  -14.938  -1.70563  9.86693"
      ]
     },
     "metadata": {},
     "output_type": "display_data"
    }
   ],
   "source": [
    "fk = vec(K)' * kron(Q, a*a') + (kron(Q, a*a') * vec(K))'\n",
    "# fk = 2 * vec(K)' * kron(Q, a*a')\n",
    "fq = kron(a'*K,a'*K)"
   ]
  },
  {
   "cell_type": "code",
   "execution_count": 43,
   "metadata": {},
   "outputs": [
    {
     "data": {
      "text/plain": [
       "([22.61531415535137 2.5822232076898217 … -1.7056250860914588 9.866933808196336], [-11.887006116565317 -15.849341488443315 … 4.537731937132776 6.050309249665588])"
      ]
     },
     "metadata": {},
     "output_type": "display_data"
    }
   ],
   "source": [
    "fq_,fk_ = eval_diff_numeric(vec(Q),vec(K))"
   ]
  },
  {
   "cell_type": "code",
   "execution_count": 44,
   "metadata": {},
   "outputs": [
    {
     "name": "stdout",
     "output_type": "stream",
     "text": [
      "9.1891166897895e-10\n",
      "1.1433192170784423e-9\n"
     ]
    }
   ],
   "source": [
    "println(sum(abs.(fq-fq_)))\n",
    "println(sum(abs.(fk-fk_)))"
   ]
  },
  {
   "cell_type": "code",
   "execution_count": 26,
   "metadata": {},
   "outputs": [
    {
     "name": "stdout",
     "output_type": "stream",
     "text": [
      "Type is Matrix{Float64}\n",
      "Shape is (1, 9)\n",
      "Type is Matrix{Float64}\n",
      "Shape is (1, 6)\n"
     ]
    }
   ],
   "source": [
    "print_jl(fq_)\n",
    "print_jl(fk_)"
   ]
  },
  {
   "cell_type": "code",
   "execution_count": 27,
   "metadata": {},
   "outputs": [],
   "source": []
  }
 ],
 "metadata": {
  "kernelspec": {
   "display_name": "Julia 1.9.4",
   "language": "julia",
   "name": "julia-1.9"
  },
  "language_info": {
   "file_extension": ".jl",
   "mimetype": "application/julia",
   "name": "julia",
   "version": "1.9.4"
  }
 },
 "nbformat": 4,
 "nbformat_minor": 2
}
